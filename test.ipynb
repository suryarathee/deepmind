{
 "cells": [
  {
   "metadata": {
    "ExecuteTime": {
     "end_time": "2025-03-31T17:34:35.600923Z",
     "start_time": "2025-03-31T17:34:35.560018Z"
    }
   },
   "cell_type": "code",
   "source": [
    "import os\n",
    "import base64\n",
    "from dotenv import load_dotenv\n",
    "import google\n",
    "from google import genai\n",
    "import dotenv\n",
    "from google.cloud import aiplatform\n",
    "load_dotenv()\n",
    "api_key = os.getenv('GEMINI_API_KEY')\n",
    "import tiktoken"
   ],
   "id": "76817ec5956dc571",
   "outputs": [],
   "execution_count": 73
  },
  {
   "metadata": {
    "ExecuteTime": {
     "end_time": "2025-03-31T17:54:59.081643Z",
     "start_time": "2025-03-31T17:54:59.067948Z"
    }
   },
   "cell_type": "code",
   "source": [
    "from google.oauth2 import service_account\n",
    "import os\n",
    "\n",
    "# Print current working directory to verify where Python is looking\n",
    "print(f\"Current working directory: {os.getcwd()}\")\n",
    "\n",
    "# Verify file exists\n",
    "file_path = r\"C:\\Users\\rathe\\Desktop\\keys\\massive-marker-455415-s8-e345651476bd.json\"\n",
    "print(f\"File exists: {os.path.exists(file_path)}\")\n",
    "\n",
    "# Try to load credentials\n",
    "try:\n",
    "    credentials = service_account.Credentials.from_service_account_file(file_path)\n",
    "    print(\"Credentials loaded successfully!\")\n",
    "    print(f\"Project ID: {credentials.project_id}\")\n",
    "except Exception as e:\n",
    "    print(f\"Error: {e}\")"
   ],
   "id": "66c3fb111b896672",
   "outputs": [
    {
     "name": "stdout",
     "output_type": "stream",
     "text": [
      "Current working directory: C:\\Users\\rathe\\Desktop\\projects\\gsoc\\deepmind\n",
      "File exists: True\n",
      "Credentials loaded successfully!\n",
      "Project ID: massive-marker-455415-s8\n"
     ]
    }
   ],
   "execution_count": 85
  },
  {
   "metadata": {
    "ExecuteTime": {
     "end_time": "2025-03-31T18:01:31.960738Z",
     "start_time": "2025-03-31T18:01:31.948738Z"
    }
   },
   "cell_type": "code",
   "source": [
    "from google.oauth2 import service_account\n",
    "SCOPES = ['https://www.googleapis.com/auth/cloud-platform']\n",
    "credentials = service_account.Credentials.from_service_account_file(\n",
    "    r\"C:\\Users\\rathe\\Desktop\\keys\\massive-marker-455415-s8-e345651476bd.json\",scopes=SCOPES)"
   ],
   "id": "1aa620209e3701bf",
   "outputs": [],
   "execution_count": 89
  },
  {
   "metadata": {
    "ExecuteTime": {
     "end_time": "2025-03-31T18:02:49.474788Z",
     "start_time": "2025-03-31T18:02:42.156768Z"
    }
   },
   "cell_type": "code",
   "source": [
    "from google import genai\n",
    "from google.genai.types import HttpOptions, Part\n",
    "\n",
    "client = genai.Client(credentials=credentials,http_options=HttpOptions(api_version=\"v1\"),vertexai=True)\n",
    "prompt = \"\"\"\n",
    "Analyze the provided video file, including its audio.\n",
    "Summarize the main points of the video concisely.\n",
    "Create a chapter breakdown with timestamps for key sections or topics discussed.\n",
    "\"\"\"\n",
    "response = client.models.generate_content(\n",
    "    model=\"gemini-2.0-flash-001\",\n",
    "    contents=[\n",
    "        Part.from_uri(\n",
    "            file_uri=\"gs://cloud-samples-data/generative-ai/video/pixel8.mp4\",\n",
    "            mime_type=\"video/mp4\",\n",
    "        ),\n",
    "        prompt,\n",
    "    ],\n",
    ")\n",
    "\n",
    "print(response.text)"
   ],
   "id": "c43ce2d3642e925b",
   "outputs": [
    {
     "name": "stdout",
     "output_type": "stream",
     "text": [
      "Okay, here's an analysis of the provided video:\n",
      "\n",
      "**Summary:**\n",
      "\n",
      "The video is a promotional piece showcasing the Google Pixel 8 Pro's \"Video Boost\" feature, particularly its \"Night Sight\" enhancement for low-light video recording. It features a Tokyo-based photographer, Saeka Shimada, who demonstrates the phone's capabilities in the city at night. She walks through various locations, including a nostalgic part of Tokyo where she used to live, capturing images and video while expressing her appreciation for the Pixel's ability to capture the nighttime atmosphere.\n",
      "\n",
      "**Main Points:**\n",
      "\n",
      "*   Introduction of Saeka Shimada, a Tokyo-based photographer.\n",
      "*   Highlighting Tokyo's unique atmosphere at night.\n",
      "*   Showcasing the \"Video Boost\" feature of the Google Pixel 8 Pro.\n",
      "*   Emphasis on the \"Night Sight\" feature enhancing video quality in low light.\n",
      "*   Demonstration of the phone's camera capabilities in real-world scenarios.\n",
      "*   Saeka takes pictures in locations such as a traditional alley with shops, and Shibuya.\n",
      "\n",
      "**Chapter Breakdown:**\n",
      "\n",
      "*   **0:00-0:05**: Introduction of Saeka Shimada and Tokyo\n",
      "*   **0:13-0:22**: Pixel's \"Video Boost\" and \"Night Sight\"\n",
      "*   **0:23-0:31**: San-cha: Saeka's Nostalgic Memories\n",
      "*   **0:53-0:57**: Arrival at Shibuya.\n",
      "\n",
      "\n"
     ]
    }
   ],
   "execution_count": 91
  },
  {
   "metadata": {
    "ExecuteTime": {
     "end_time": "2025-03-31T18:08:00.477423Z",
     "start_time": "2025-03-31T18:03:38.090705Z"
    }
   },
   "cell_type": "code",
   "source": [
    "from IPython.display import Markdown\n",
    "video_path = \"vid.mp4\"\n",
    "with open(video_path, \"rb\") as video_file:\n",
    "    video_data = base64.b64encode(video_file.read()).decode(\"utf-8\")\n",
    "tocken_count = client.models.compute_tokens(model = \"gemini-1.5-pro\",contents=[\n",
    "        video_data,\n",
    "        \"Summarize this video. Then create a quiz with answer key \"\n",
    "        \"based on the information in the video.\"])\n",
    "print(tocken_count)"
   ],
   "id": "d6f08bdc46c9895d",
   "outputs": [
    {
     "name": "stderr",
     "output_type": "stream",
     "text": [
      "IOPub data rate exceeded.\n",
      "The Jupyter server will temporarily stop sending output\n",
      "to the client in order to avoid crashing it.\n",
      "To change this limit, set the config variable\n",
      "`--ServerApp.iopub_data_rate_limit`.\n",
      "\n",
      "Current values:\n",
      "ServerApp.iopub_data_rate_limit=1000000.0 (bytes/sec)\n",
      "ServerApp.rate_limit_window=3.0 (secs)\n",
      "\n"
     ]
    }
   ],
   "execution_count": 92
  },
  {
   "metadata": {},
   "cell_type": "code",
   "outputs": [],
   "execution_count": null,
   "source": "",
   "id": "31f027fac2acc9ad"
  }
 ],
 "metadata": {
  "kernelspec": {
   "display_name": "Python 3",
   "language": "python",
   "name": "python3"
  },
  "language_info": {
   "codemirror_mode": {
    "name": "ipython",
    "version": 2
   },
   "file_extension": ".py",
   "mimetype": "text/x-python",
   "name": "python",
   "nbconvert_exporter": "python",
   "pygments_lexer": "ipython2",
   "version": "2.7.6"
  }
 },
 "nbformat": 4,
 "nbformat_minor": 5
}
